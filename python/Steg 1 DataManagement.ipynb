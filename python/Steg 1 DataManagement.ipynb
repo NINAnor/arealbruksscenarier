{
 "cells": [
  {
   "cell_type": "code",
   "execution_count": null,
   "metadata": {},
   "outputs": [],
   "source": [
    "# Make a data container for the yearly tiles with better naming\n",
    "import arcpy\n",
    "import os\n",
    "\n",
    "out_folder_path = \"D:\\\\Artikler\\\\KartOgPlan2024\\\\Data\"\n",
    "out_name = \"GLC_FCS30b.gdb\"\n",
    "arcpy.management.CreateFileGDB(out_folder_path, out_name)\n",
    "\n",
    "arcpy.env.workspace = \"D:\\\\Artikler\\\\KartOgPlan2024\\\\Data\\\\GLC_FCS30.gdb\"\n",
    "rasters = arcpy.ListRasters(\"*\")\n",
    "# Loop through each raster\n",
    "for r in rasters:\n",
    "    r_name = os.path.splitext(r)[0]  # Get the filename without extension\n",
    "    print(r_name)\n",
    "    cr_name = f\"{r_name[0:8]}_{r_name[41:len(r_name)]}\"\n",
    "    print(cr_name)\n",
    "    out_rasterdataset = f\"D:\\\\Artikler\\\\KartOgPlan2024\\\\Data\\\\GLC_FCS30b.gdb\\\\{cr_name}\"\n",
    "    arcpy.management.CopyRaster(r, out_rasterdataset)"
   ]
  },
  {
   "cell_type": "code",
   "execution_count": null,
   "metadata": {},
   "outputs": [],
   "source": [
    "# Make a data container for the 1-yearly representations\n",
    "out_folder_path = \"D:\\\\Artikler\\\\KartOgPlan2024\\\\Data\"\n",
    "out_name = \"GLC_FCS30_2000p.gdb\"\n",
    "arcpy.management.CreateFileGDB(out_folder_path, out_name)"
   ]
  },
  {
   "cell_type": "code",
   "execution_count": null,
   "metadata": {},
   "outputs": [],
   "source": [
    "# extracting bands from multiband rasters and create single band rasters - for the 1-years representations\n",
    "import arcpy\n",
    "import os\n",
    "\n",
    "arcpy.env.addOutputsToMap = False \n",
    "\n",
    "# Set the workspace\n",
    "arcpy.env.workspace = \"D:\\\\Artikler\\\\KartOgPlan2024\\\\Data\\\\GLC_AnnualMap\"\n",
    "output_gdb = \"D:\\\\Artikler\\\\KartOgPlan2024\\\\Data\\\\GLC_FCS30_2000p.gdb\"\n",
    "\n",
    "# List of years corresponding to the bands\n",
    "years = [2000, 2001, 2002, 2003, 2004, 2005, 2006, 2007, 2008, 2009, 2010, 2011, 2012, 2013, 2014, 2015, 2016, 2017, 2018, 2019, 2020, 2021, 2022]\n",
    "\n",
    "# List all rasters with TIF format\n",
    "rasters = arcpy.ListRasters(\"*\", \"TIF\")\n",
    "\n",
    "# Loop through each raster\n",
    "for r in rasters:\n",
    "    # Get raster properties\n",
    "    raster = arcpy.Raster(r)\n",
    "    band_count = raster.bandCount\n",
    "    \n",
    "    # Extract tile information from the raster name\n",
    "    r_name = os.path.splitext(r)[0]  # Get the filename without extension\n",
    "    tile = r_name[20:len(r_name) - 7]\n",
    "    # Loop through each band and extract it to the geodatabase\n",
    "    for band_num in range(1, band_count + 1):\n",
    "        # Define the output name using the corresponding year and tile\n",
    "        year = years[band_num - 1]  # Get the year for the band\n",
    "        output_band = f\"GLC_{year}_{tile}\"  # Name it as GLC_1985_tile, GLC_1990_tile, etc.\n",
    "        output_band_path = f\"{output_gdb}\\\\{output_band}\"\n",
    "\n",
    "        # Extract the band and save it as a separate raster\n",
    "        arcpy.management.CopyRaster(f\"{r}\\\\Band_{band_num}\", output_band_path, format=\"GRID\")\n",
    "\n",
    "        # Print progress for each band\n",
    "        print(f\"Extracted Band {band_num} (Year: {year}) to {output_band_path}\")"
   ]
  },
  {
   "cell_type": "code",
   "execution_count": null,
   "metadata": {},
   "outputs": [],
   "source": [
    "# working with the 1-years representations - mosaic to new raster\n",
    "import arcpy\n",
    "import os\n",
    "\n",
    "output_gdb = \"D:\\\\Artikler\\\\KartOgPlan2024\\\\Data\\\\GLC_FCS30mos.gdb\"\n",
    "arcpy.env.workspace = \"D:\\\\Artikler\\\\KartOgPlan2024\\\\Data\\\\GLC_FCS30_2000p.gdb\"\n",
    "\n",
    "years = [2000, 2001, 2002, 2003, 2004, 2005, 2006, 2007, 2008, 2009, 2010, 2011, 2012, 2013, 2014, 2015, 2016, 2017, 2018, 2019, 2020, 2021, 2022]\n",
    "for year in years:\n",
    "    print(year)\n",
    "    rasters = arcpy.ListRasters(f\"*{year}*\")\n",
    "    output_location = output_gdb\n",
    "    raster_dataset_name_with_extension = f\"GLC_{year}\"\n",
    "    coordinate_system_for_the_raster = 4326\n",
    "    pixel_type = \"8_BIT_UNSIGNED\"\n",
    "    cellsize = 0.00026949458523585663\n",
    "    number_of_bands = 1\n",
    "    mosaic_method = \"LAST\"\n",
    "    mosaic_colormap_mode = \"FIRST\"\n",
    "    arcpy.management.MosaicToNewRaster(rasters, output_location, raster_dataset_name_with_extension, \n",
    "                                       coordinate_system_for_the_raster, pixel_type, cellsize, \n",
    "                                       number_of_bands, mosaic_method, mosaic_colormap_mode)"
   ]
  },
  {
   "cell_type": "code",
   "execution_count": null,
   "metadata": {},
   "outputs": [],
   "source": [
    "# Project the data to UTM\n",
    "# trouble with 2005 - done manually\n",
    "arcpy.env.addOutputsToMap = False \n",
    "arcpy.env.workspace = \"D:\\\\Artikler\\\\KartOgPlan2024\\\\Data\\\\GLC_FCS30mos.gdb\"\n",
    "output_gdb = \"D:\\\\Artikler\\\\KartOgPlan2024\\\\Data\\\\GLC_FCS30mos_utm.gdb\"\n",
    "# List all rasters\n",
    "rasters = arcpy.ListRasters(\"*\")\n",
    "# Loop through each raster\n",
    "for r in rasters:\n",
    "    print(r)\n",
    "    out_raster = f\"{output_gdb}\\\\{r}_utm\"\n",
    "    out_coor_system = 25833\n",
    "    resampling_type = \"NEAREST\"\n",
    "    cell_size = 30\n",
    "    geographic_transform = \"ETRS_1989_To_WGS_1984\"\n",
    "    in_coor_system = 4326\n",
    "    arcpy.management.ProjectRaster(r, out_raster, out_coor_system, resampling_type, cell_size, geographic_transform, \"\", in_coor_system)"
   ]
  },
  {
   "cell_type": "code",
   "execution_count": null,
   "metadata": {},
   "outputs": [],
   "source": [
    "# Make a Clip Raster\n",
    "out_folder_path = \"D:\\\\Artikler\\\\KartOgPlan2024\\\\Data\"\n",
    "out_name = \"Geodata.gdb\"\n",
    "arcpy.management.CreateFileGDB(out_folder_path, out_name)\n",
    "in_dataset = \"D:\\\\Artikler\\\\KartOgPlan2024\\\\Data\\\\Norge_gcs.shp\"\n",
    "out_dataset = \"D:\\\\Artikler\\\\KartOgPlan2024\\\\Data\\\\Geodata.gdb\\\\fcNorge\"\n",
    "arcpy.management.Project(in_dataset, out_dataset, 25833)\n",
    "arcpy.env.snapRaster = \"D:\\\\Artikler\\\\KartOgPlan2024\\\\Data\\\\GLC_FCS30mos_utm.gdb\\\\GLC_1985_utm\"\n",
    "rNorge = \"D:\\\\Artikler\\\\KartOgPlan2024\\\\Data\\\\Geodata.gdb\\\\rNorge_utm\"\n",
    "arcpy.conversion.PolygonToRaster(out_dataset, 'Norge', rNorge, \"MAXIMUM_AREA\", \"\", 30)"
   ]
  },
  {
   "cell_type": "code",
   "execution_count": null,
   "metadata": {},
   "outputs": [],
   "source": [
    "# Make a container for the finished rasters\n",
    "out_folder_path = \"D:\\\\Artikler\\\\KartOgPlan2024\\\\Data\"\n",
    "out_name = \"GLC_FCS30_utm33.gdb\"\n",
    "arcpy.management.CreateFileGDB(out_folder_path, out_name)"
   ]
  },
  {
   "cell_type": "code",
   "execution_count": null,
   "metadata": {},
   "outputs": [],
   "source": [
    "# clip the rasters\n",
    "# trouble with 2005 - done manually\n",
    "arcpy.env.addOutputsToMap = False \n",
    "arcpy.env.workspace = \"D:\\\\Artikler\\\\KartOgPlan2024\\\\Data\\\\GLC_FCS30mos_utm.gdb\"\n",
    "output_gdb = \"D:\\\\Artikler\\\\KartOgPlan2024\\\\Data\\\\GLC_FCS30_utm33.gdb\"\n",
    "arcpy.env.snapRaster = \"D:\\\\Artikler\\\\KartOgPlan2024\\\\Data\\\\GLC_FCS30mos_utm.gdb\\\\GLC_1985_utm\"\n",
    "in_raster_or_constant2 = \"D:\\\\Artikler\\\\KartOgPlan2024\\\\Data\\\\Geodata.gdb\\\\rNorge_utm\"\n",
    "# List all rasters\n",
    "rasters = arcpy.ListRasters(\"*\")\n",
    "# Loop through each raster\n",
    "for r in rasters:\n",
    "    print(r)\n",
    "    out_raster = f\"{output_gdb}\\\\{r}\"\n",
    "    arcpy.ddd.Times(r, in_raster_or_constant2, out_raster)"
   ]
  },
  {
   "cell_type": "code",
   "execution_count": null,
   "metadata": {},
   "outputs": [],
   "source": [
    "# Make a container for the reclassified rasters ...\n",
    "out_folder_path = \"D:\\\\Artikler\\\\KartOgPlan2024\\\\Data\"\n",
    "out_name = \"GLC_FCS30_2cl.gdb\"\n",
    "arcpy.management.CreateFileGDB(out_folder_path, out_name)"
   ]
  },
  {
   "cell_type": "code",
   "execution_count": null,
   "metadata": {},
   "outputs": [],
   "source": [
    "# Reclassify rasters\n",
    "arcpy.env.addOutputsToMap = False \n",
    "out_gdg = \"D:\\\\Artikler\\\\KartOgPlan2024\\\\Data\\\\GLC_FCS30_2cl.gdb\"\n",
    "arcpy.env.workspace = \"D:\\\\Artikler\\\\KartOgPlan2024\\\\Data\\\\GLC_FCS30_utm33.gdb\"\n",
    "# List all rasters\n",
    "rasters = arcpy.ListRasters(\"*\")\n",
    "# Loop through each raster\n",
    "for r in rasters:\n",
    "    print(r)\n",
    "    remap = \"0 188 0; 189 191 1; 192 250 0\"\n",
    "    out_raster = f\"{out_gdg}\\\\{r}\"\n",
    "    arcpy.ddd.Reclassify(r, \"Value\", remap, out_raster)"
   ]
  },
  {
   "cell_type": "code",
   "execution_count": null,
   "metadata": {},
   "outputs": [],
   "source": [
    "# Make a container for the zonal stat tables ...\n",
    "out_folder_path = \"D:\\\\Artikler\\\\KartOgPlan2024\\\\Data\"\n",
    "out_name = \"ImpermTables.gdb\"\n",
    "arcpy.management.CreateFileGDB(out_folder_path, out_name)\n",
    "# make a copy of the mun layer, simplify it and add iKomNr\n",
    "in_features = \"D:\\\\Artikler\\\\KartOgPlan2024\\\\Data\\\\Basisdata_0000_Norge_25833_Kommuner_FGDB.gdb\\\\kommune\"\n",
    "fcKom = \"D:\\\\Artikler\\\\KartOgPlan2024\\\\Data\\\\Geodata.gdb\\\\fcKom\"\n",
    "arcpy.management.CopyFeatures(in_features, fcKom)\n",
    "arcpy.management.CalculateField(fcKom, 'iKomNr', \"!kommunenummer!\", \"PYTHON\", \"\", \"LONG\")\n",
    "keep_fields = ['iKomNr', 'kommunenummer', 'kommunenavn']\n",
    "arcpy.management.DeleteField(fcKom, keep_fields, \"KEEP_FIELDS\")"
   ]
  },
  {
   "cell_type": "code",
   "execution_count": null,
   "metadata": {},
   "outputs": [],
   "source": [
    "# run zonal statistics ...\n",
    "import arcpy\n",
    "from arcpy.sa import *\n",
    "arcpy.env.addOutputsToMap = False\n",
    "out_gdb = \"D:\\\\Artikler\\\\KartOgPlan2024\\\\Data\\\\ImpermTables.gdb\"\n",
    "\n",
    "arcpy.env.workspace = \"D:\\\\Artikler\\\\KartOgPlan2024\\\\Data\\\\GLC_FCS30_2cl.gdb\"\n",
    "inZoneData = \"D:\\\\Artikler\\\\KartOgPlan2024\\\\Data\\\\Geodata.gdb\\\\fcKom\"\n",
    "zoneField = \"iKomNr\"\n",
    "# List all rasters\n",
    "rasters = arcpy.ListRasters(\"*\")\n",
    "# Loop through each raster\n",
    "for r in rasters:\n",
    "    year = int(r[4:8])\n",
    "    print(year)\n",
    "    inValueRaster = r\n",
    "    outTable = f\"{out_gdb}\\\\tbl{r}\"\n",
    "    outZSaT = ZonalStatisticsAsTable(inZoneData, zoneField, inValueRaster, outTable, \"DATA\", \"SUM\")"
   ]
  },
  {
   "cell_type": "code",
   "execution_count": null,
   "metadata": {},
   "outputs": [],
   "source": [
    "# convert from unit pixels to unit square km\n",
    "fc_pxl = \"D:\\\\Artikler\\\\KartOgPlan2024\\\\Data\\\\Geodata.gdb\\\\fcKomGLC\"\n",
    "fc_km2 = \"D:\\\\Artikler\\\\KartOgPlan2024\\\\Data\\\\Geodata.gdb\\\\fcKomGLCkm2\"\n",
    "arcpy.management.CopyFeatures(fc_pxl, fc_km2)\n",
    "for year in range(2000, 2051):\n",
    "    txtYear = str(year)\n",
    "    if year < 2023: \n",
    "        old_field_name = f\"ImpArea_{txtYear}\"\n",
    "        new_field_name = f\"ImpAreaKm2_{txtYear}\"\n",
    "    elif year > 2022: \n",
    "        old_field_name = f\"eImpAreal_{txtYear}\"\n",
    "        new_field_name = f\"eImpAreaKm2_{txtYear}\"\n",
    "    arcpy.management.AddField(fc_km2, new_field_name, \"DOUBLE\")\n",
    "    fields = [old_field_name, new_field_name]\n",
    "    with arcpy.da.UpdateCursor(fc_km2, fields) as cursor:\n",
    "        for row in cursor:\n",
    "            row[1] = (row[0] * 900)/1000000\n",
    "            cursor.updateRow(row)"
   ]
  },
  {
   "cell_type": "code",
   "execution_count": null,
   "metadata": {},
   "outputs": [],
   "source": [
    "# clean up - delete fields with pixels as unit\n",
    "fc = \"D:\\\\Artikler\\\\KartOgPlan2024\\\\Data\\\\Geodata.gdb\\\\fcKomGLCkm2\"\n",
    "# Get a list of all fields in the feature class\n",
    "all_fields = arcpy.ListFields(fc)  \n",
    "# Filter fields that contain the year in their name\n",
    "year_fields = [field.name for field in all_fields if 'ImpArea' in field.name]\n",
    "km2_fields = [field.name for field in all_fields if 'Km2' in field.name]\n",
    "year_fields_minus_km2 = [field for field in year_fields if field not in km2_fields]\n",
    "arcpy.management.DeleteField(fc, year_fields_minus_km2)"
   ]
  },
  {
   "cell_type": "markdown",
   "metadata": {},
   "source": [
    "# Generate change variables"
   ]
  },
  {
   "cell_type": "code",
   "execution_count": null,
   "metadata": {},
   "outputs": [],
   "source": [
    "# Change in population\n",
    "fc = \"D:\\\\Artikler\\\\KartOgPlan2024\\\\Data\\\\Data2Trond.gdb\\\\fcKomPop\"\n",
    "arcpy.management.CalculateField(fc, 'bef00_22', \"((!bef2000! - !bef2022!) / !bef2000!) * 100\", \"PYTHON\", \"\", \"DOUBLE\")\n",
    "arcpy.management.CalculateField(fc, 'bef23_50', \"((!est2050! - !bef2023!) / !bef2023!) * 100\", \"PYTHON\", \"\", \"DOUBLE\")\n",
    "arcpy.management.CalculateField(fc, 'bef00_50', \"((!est2050! - !bef2000!) / !bef2000!) * 100\", \"PYTHON\", \"\", \"DOUBLE\")"
   ]
  },
  {
   "cell_type": "code",
   "execution_count": null,
   "metadata": {},
   "outputs": [],
   "source": [
    "# Need to handle division by zero\n",
    "fc = \"D:\\\\Artikler\\\\KartOgPlan2024\\\\Data\\\\Data2Trond.gdb\\\\fcKomGLCkm2\"\n",
    "arcpy.management.AddField(fc, 'ImpArea00_22', \"DOUBLE\")\n",
    "arcpy.management.AddField(fc, 'ImpArea23_50', \"DOUBLE\")\n",
    "fields = ['ImpAreaKm2_2000', 'ImpAreaKm2_2022', 'ImpArea00_22']\n",
    "with arcpy.da.UpdateCursor(fc, fields) as cursor:\n",
    "    for row in cursor:\n",
    "        if not row[0] == 0:\n",
    "            row[2] = ((row[1] - row[0])/row[0]) * 100\n",
    "        else:\n",
    "            row[2] = 0\n",
    "        cursor.updateRow(row)\n",
    "        \n",
    "fields = ['eImpAreaKm2_2023', 'eImpAreaKm2_2050', 'ImpArea23_50']\n",
    "with arcpy.da.UpdateCursor(fc, fields) as cursor:\n",
    "    for row in cursor:\n",
    "        if not row[0] == 0:\n",
    "            row[2] = ((row[1] - row[0])/row[0]) * 100\n",
    "        else:\n",
    "            row[2] = 0\n",
    "        cursor.updateRow(row)"
   ]
  },
  {
   "cell_type": "code",
   "execution_count": null,
   "metadata": {},
   "outputs": [],
   "source": [
    "# Need to handle division by zero\n",
    "fc = \"D:\\\\Artikler\\\\KartOgPlan2024\\\\Data\\\\Data2Trond.gdb\\\\fcKomGLCkm2\"\n",
    "arcpy.management.AddField(fc, 'ImpArea00_50', \"DOUBLE\")\n",
    "fields = ['ImpAreaKm2_2000', 'eImpAreaKm2_2050', 'ImpArea00_50']\n",
    "with arcpy.da.UpdateCursor(fc, fields) as cursor:\n",
    "    for row in cursor:\n",
    "        if not row[0] == 0:\n",
    "            row[2] = ((row[1] - row[0])/row[0]) * 100\n",
    "        else:\n",
    "            row[2] = 0\n",
    "        cursor.updateRow(row)"
   ]
  },
  {
   "cell_type": "code",
   "execution_count": null,
   "metadata": {},
   "outputs": [],
   "source": [
    "# Join fields to new main table\n",
    "fcClean = \"D:\\\\Prosjekter\\\\Arendalsuka_2024\\\\Data\\\\NewOldMunNr.gdb\\\\fcKom_LU\"\n",
    "fc = \"D:\\\\Artikler\\\\KartOgPlan2024\\\\Data\\\\Data2Trond.gdb\\\\fcPopImpArea\"\n",
    "arcpy.management.CopyFeatures(fcClean, fc)\n",
    "drop_field = ['iKomNr2023', 'txtFylke']\n",
    "arcpy.management.DeleteField(fc, drop_field)\n",
    "fcImpArea = \"D:\\\\Artikler\\\\KartOgPlan2024\\\\Data\\\\Data2Trond.gdb\\\\fcKomGLCkm2\"\n",
    "fields = ['ImpArea00_22', 'ImpArea23_50']\n",
    "arcpy.management.JoinField(fc, 'iKomNr', fcImpArea, 'iKomNr', fields)\n",
    "arcpy.management.JoinField(fc, 'iKomNr', fcImpArea, 'iKomNr', 'ImpArea00_50')\n",
    "fcPop = \"D:\\\\Artikler\\\\KartOgPlan2024\\\\Data\\\\Data2Trond.gdb\\\\fcKomPop\"\n",
    "fields = ['bef00_22', 'bef23_50']\n",
    "arcpy.management.JoinField(fc, 'iKomNr', fcPop, 'iKomNr', fields)\n",
    "arcpy.management.JoinField(fc, 'iKomNr', fcPop, 'iKomNr', 'bef00_50')"
   ]
  },
  {
   "cell_type": "markdown",
   "metadata": {},
   "source": [
    "# CONVERT TO TIFF"
   ]
  },
  {
   "cell_type": "code",
   "execution_count": null,
   "metadata": {},
   "outputs": [],
   "source": [
    "import arcpy\n",
    "import os\n",
    "gdb = \"D:\\\\Artikler\\\\KartOgPlan2024\\\\Data\\\\GLC_FCS30_utm33.gdb\"\n",
    "mappe = \"D:\\\\Artikler\\\\KartOgPlan2024\\\\Data\\\\TIFF\"\n",
    "os.mkdir(mappe)\n",
    "#loop through the rasters in the gdb and convert them to TIFF\n",
    "arcpy.env.workspace = gdb\n",
    "rasters = arcpy.ListRasters(\"*\", \"GRID\")\n",
    "for raster in rasters:\n",
    "    print(raster)\n",
    "    arcpy.conversion.RasterToOtherFormat(raster, mappe, \"TIFF\")"
   ]
  },
  {
   "cell_type": "code",
   "execution_count": null,
   "metadata": {},
   "outputs": [],
   "source": [
    "# impermeable areas\n",
    "import arcpy\n",
    "import os\n",
    "gdb = \"D:\\\\Artikler\\\\KartOgPlan2024\\\\Data\\\\GLC_FCS30_2cl.gdb\"\n",
    "mappe = \"D:\\\\Artikler\\\\KartOgPlan2024\\\\Data\\\\TIFF_Impermeable\"\n",
    "os.mkdir(mappe)\n",
    "#loop through the rasters in the gdb and convert them to TIFF\n",
    "arcpy.env.workspace = gdb\n",
    "rasters = arcpy.ListRasters(\"*\", \"GRID\")\n",
    "for raster in rasters:\n",
    "    print(raster)\n",
    "    arcpy.conversion.RasterToOtherFormat(raster, mappe, \"TIFF\")"
   ]
  }
 ],
 "metadata": {
  "kernelspec": {
   "display_name": "ArcGISPro",
   "language": "python",
   "name": "python3"
  },
  "language_info": {
   "file_extension": ".py",
   "mimetype": "text/x-python",
   "name": "python",
   "version": "3.11.10"
  }
 },
 "nbformat": 4,
 "nbformat_minor": 4
}
